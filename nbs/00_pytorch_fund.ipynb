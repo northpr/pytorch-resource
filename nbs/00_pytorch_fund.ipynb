{
 "cells": [
  {
   "cell_type": "code",
   "execution_count": 1,
   "id": "37fe5510-3561-42f1-81f7-10f39fcf4917",
   "metadata": {},
   "outputs": [],
   "source": [
    "import torch"
   ]
  },
  {
   "cell_type": "code",
   "execution_count": 2,
   "id": "33047289-e7e2-4542-8eca-7b5fbae0f1c2",
   "metadata": {},
   "outputs": [
    {
     "data": {
      "text/plain": [
       "tensor([[1, 2, 3],\n",
       "        [4, 5, 6],\n",
       "        [7, 8, 9]])"
      ]
     },
     "execution_count": 2,
     "metadata": {},
     "output_type": "execute_result"
    }
   ],
   "source": [
    "first_tensor = torch.tensor([[1,2,3],\n",
    "                            [4,5,6],\n",
    "                            [7,8,9]])\n",
    "\n",
    "first_tensor"
   ]
  },
  {
   "cell_type": "code",
   "execution_count": 3,
   "id": "604b8eb2-47c0-41e8-a363-3356022ed82d",
   "metadata": {},
   "outputs": [
    {
     "data": {
      "text/plain": [
       "tensor([[1., 1., 1.],\n",
       "        [1., 1., 1.],\n",
       "        [1., 1., 1.]])"
      ]
     },
     "execution_count": 3,
     "metadata": {},
     "output_type": "execute_result"
    }
   ],
   "source": [
    "ones_tensor = torch.ones(3,3)\n",
    "ones_tensor"
   ]
  },
  {
   "cell_type": "code",
   "execution_count": 4,
   "id": "43554dc7-385d-4003-a87a-2797ceb45d1f",
   "metadata": {},
   "outputs": [
    {
     "data": {
      "text/plain": [
       "tensor([[0.2164, 0.7192, 0.9491],\n",
       "        [0.7351, 0.6637, 0.1356],\n",
       "        [0.5429, 0.7954, 0.5008]])"
      ]
     },
     "execution_count": 4,
     "metadata": {},
     "output_type": "execute_result"
    }
   ],
   "source": [
    "rand_tensor = torch.rand(3,3)\n",
    "rand_tensor"
   ]
  },
  {
   "cell_type": "code",
   "execution_count": 6,
   "id": "7c021704-d20e-4064-ad8e-bf0dcf7a7c9e",
   "metadata": {},
   "outputs": [
    {
     "data": {
      "text/plain": [
       "tensor([[7, 6, 6],\n",
       "        [4, 7, 4],\n",
       "        [7, 5, 6]])"
      ]
     },
     "execution_count": 6,
     "metadata": {},
     "output_type": "execute_result"
    }
   ],
   "source": [
    "randint_tensor = torch.randint(2,8,size=(3,3))\n",
    "randint_tensor"
   ]
  },
  {
   "cell_type": "code",
   "execution_count": 9,
   "id": "719b3a4a-c46c-4bad-98db-c655b9d95e43",
   "metadata": {},
   "outputs": [
    {
     "data": {
      "text/plain": [
       "(torch.Size([3]), torch.float32, device(type='cpu'))"
      ]
     },
     "execution_count": 9,
     "metadata": {},
     "output_type": "execute_result"
    }
   ],
   "source": [
    "float_32_tensor = torch.tensor([3.0,6.0,9.0],\n",
    "                              dtype=None,\n",
    "                              device=None,\n",
    "                              requires_grad=False)\n",
    "\n",
    "float_32_tensor.shape, float_32_tensor.dtype, float_32_tensor.device"
   ]
  },
  {
   "cell_type": "code",
   "execution_count": 13,
   "id": "207e45ae-9ff4-41d2-a194-856bdd11fce1",
   "metadata": {},
   "outputs": [
    {
     "name": "stdout",
     "output_type": "stream",
     "text": [
      "tensor([[0.7922, 0.9383, 0.1015, 0.7579],\n",
      "        [0.7414, 0.2219, 0.7448, 0.9070],\n",
      "        [0.5045, 0.0948, 0.4908, 0.6073]])\n",
      "Shape of tensor: torch.Size([3, 4])\n",
      "Device of tensor: cpu\n"
     ]
    }
   ],
   "source": [
    "rand_tensor = torch.rand(3,4)\n",
    "print(rand_tensor)\n",
    "print(f\"Shape of tensor: {rand_tensor.shape}\")\n",
    "print(f\"Device of tensor: {rand_tensor.device}\")"
   ]
  },
  {
   "cell_type": "markdown",
   "id": "bd0721bd-43d2-4dc7-b95a-767a9623504e",
   "metadata": {},
   "source": [
    "# Operations"
   ]
  },
  {
   "cell_type": "code",
   "execution_count": 15,
   "id": "c702e145-9644-495c-b743-4f03a9f54871",
   "metadata": {},
   "outputs": [
    {
     "data": {
      "text/plain": [
       "tensor([11, 12, 13])"
      ]
     },
     "execution_count": 15,
     "metadata": {},
     "output_type": "execute_result"
    }
   ],
   "source": [
    "tensor = torch.tensor([1,2,3])\n",
    "tensor+10"
   ]
  },
  {
   "cell_type": "code",
   "execution_count": 16,
   "id": "85467ae3-a7d5-47a0-bf5c-9cd3592c614c",
   "metadata": {},
   "outputs": [
    {
     "data": {
      "text/plain": [
       "tensor([10, 20, 30])"
      ]
     },
     "execution_count": 16,
     "metadata": {},
     "output_type": "execute_result"
    }
   ],
   "source": [
    "tensor*10"
   ]
  },
  {
   "cell_type": "code",
   "execution_count": 21,
   "id": "cb702018-d7ac-416b-91aa-65d7bff8a75b",
   "metadata": {},
   "outputs": [
    {
     "data": {
      "text/plain": [
       "True"
      ]
     },
     "execution_count": 21,
     "metadata": {},
     "output_type": "execute_result"
    }
   ],
   "source": [
    "tensor_oper = tensor*10\n",
    "tensor_multi = torch.multiply(tensor,10)\n",
    "\n",
    "torch.equal(tensor_oper, tensor_multi)"
   ]
  },
  {
   "cell_type": "markdown",
   "id": "a8e52ea5-7a14-4b63-a8e6-d9b9e40bd129",
   "metadata": {},
   "source": [
    "## Matrix multiplication"
   ]
  },
  {
   "cell_type": "code",
   "execution_count": 24,
   "id": "acb75b0d-f3b5-41ab-8710-ac3ef73b48f5",
   "metadata": {},
   "outputs": [
    {
     "data": {
      "text/plain": [
       "tensor([1, 2, 3])"
      ]
     },
     "execution_count": 24,
     "metadata": {},
     "output_type": "execute_result"
    }
   ],
   "source": [
    "tensor"
   ]
  },
  {
   "cell_type": "code",
   "execution_count": 25,
   "id": "dc22ecf9-39c4-4bc1-992f-56f7c79cb4da",
   "metadata": {},
   "outputs": [
    {
     "data": {
      "text/plain": [
       "tensor([1, 4, 9])"
      ]
     },
     "execution_count": 25,
     "metadata": {},
     "output_type": "execute_result"
    }
   ],
   "source": [
    "tensor * tensor"
   ]
  },
  {
   "cell_type": "code",
   "execution_count": 26,
   "id": "db6e8118-3790-45a3-a9c1-58c662db9fc6",
   "metadata": {},
   "outputs": [
    {
     "data": {
      "text/plain": [
       "tensor(14)"
      ]
     },
     "execution_count": 26,
     "metadata": {},
     "output_type": "execute_result"
    }
   ],
   "source": [
    "torch.matmul(tensor,tensor)"
   ]
  },
  {
   "cell_type": "code",
   "execution_count": 44,
   "id": "dc1c46e3-583a-4ae8-8a45-3d6cb080a13c",
   "metadata": {},
   "outputs": [
    {
     "name": "stdout",
     "output_type": "stream",
     "text": [
      "tensor 2x3:\n",
      "tensor([[2, 2, 2],\n",
      "        [2, 1, 2]])\n",
      "tensor 3x3:\n",
      "tensor([[3, 2],\n",
      "        [3, 3],\n",
      "        [3, 3]])\n",
      "tensor matrix multiplication:\n",
      "tensor([[18, 16],\n",
      "        [15, 13]])\n"
     ]
    }
   ],
   "source": [
    "tensor_2x3 = torch.randint(1,3,size=(2,3))\n",
    "tensor_3x2 = torch.randint(2,4,size=(3,2))\n",
    "\n",
    "tensor_matmul = torch.matmul(tensor_2x3,tensor_3x2)\n",
    "# mm = matmul\n",
    "tensor_matmul = torch.mm(tensor_2x3,tensor_3x2)\n",
    "\n",
    "print(f\"tensor 2x3:\\n{tensor_2x3}\")\n",
    "print(f\"tensor 3x3:\\n{tensor_3x2}\")\n",
    "print(f\"tensor matrix multiplication:\\n{tensor_matmul}\")"
   ]
  },
  {
   "cell_type": "markdown",
   "id": "af974a8b-ead5-4982-aa33-35f9dc575b42",
   "metadata": {},
   "source": [
    "## Transpose"
   ]
  },
  {
   "cell_type": "code",
   "execution_count": 42,
   "id": "a499d98e-f5c9-4735-872d-d8f2f2a640e1",
   "metadata": {},
   "outputs": [
    {
     "name": "stdout",
     "output_type": "stream",
     "text": [
      "2x3 matrix:\n",
      "tensor([[1, 1, 2],\n",
      "        [1, 1, 1]])\n",
      "Transpose matrix:\n",
      "tensor([[1, 1],\n",
      "        [1, 1],\n",
      "        [2, 1]])\n"
     ]
    }
   ],
   "source": [
    "print(f\"2x3 matrix:\\n{tensor_2x3}\")\n",
    "print(f\"Transpose matrix:\\n{tensor_2x3.T}\")"
   ]
  },
  {
   "cell_type": "code",
   "execution_count": 46,
   "id": "5e6df6be-def2-411d-9ad6-57c652b5d56b",
   "metadata": {},
   "outputs": [
    {
     "data": {
      "text/plain": [
       "tensor([[ 27.,  30.,  33.],\n",
       "        [ 61.,  68.,  75.],\n",
       "        [ 95., 106., 117.]])"
      ]
     },
     "execution_count": 46,
     "metadata": {},
     "output_type": "execute_result"
    }
   ],
   "source": [
    "# Shapes need to be in the right way  \n",
    "tensor_A = torch.tensor([[1, 2],\n",
    "                         [3, 4],\n",
    "                         [5, 6]], dtype=torch.float32)\n",
    "\n",
    "tensor_B = torch.tensor([[7, 10],\n",
    "                         [8, 11], \n",
    "                         [9, 12]], dtype=torch.float32)\n",
    "\n",
    "torch.mm(tensor_A, tensor_B.T)"
   ]
  },
  {
   "cell_type": "markdown",
   "id": "7e08305d-fcbe-4a89-b8a9-ce22cc9b6895",
   "metadata": {},
   "source": [
    "## Linear"
   ]
  },
  {
   "cell_type": "code",
   "execution_count": 51,
   "id": "6f6c2a3c-0e76-4ffe-b799-7c111dfcc64d",
   "metadata": {},
   "outputs": [
    {
     "name": "stdout",
     "output_type": "stream",
     "text": [
      "Input shape: torch.Size([3, 2])\n",
      "\n",
      "Output:\n",
      "tensor([[-0.8416, -0.2469,  0.1746, -1.7773, -0.3457,  0.7310],\n",
      "        [-1.3715, -0.4160,  0.0062, -3.9295, -0.5989,  0.7376],\n",
      "        [-1.9013, -0.5850, -0.1621, -6.0818, -0.8520,  0.7443]],\n",
      "       grad_fn=<AddmmBackward0>)\n",
      "\n",
      "Output shape: torch.Size([3, 6])\n"
     ]
    }
   ],
   "source": [
    "torch.manual_seed(123)\n",
    "\n",
    "linear = torch.nn.Linear(in_features=2, # in_features = matches inner dimension of input\n",
    "                        out_features=6) # out_features = describes outer value\n",
    "\n",
    "x=tensor_A\n",
    "output=linear(x)\n",
    "\n",
    "print(f\"Input shape: {x.shape}\\n\")\n",
    "print(f\"Output:\\n{output}\\n\\nOutput shape: {output.shape}\")"
   ]
  },
  {
   "cell_type": "markdown",
   "id": "dcd7038a-dc8b-4323-a58c-3c5ab5faf626",
   "metadata": {},
   "source": [
    "# Min, Max, Mean, Sum"
   ]
  },
  {
   "cell_type": "code",
   "execution_count": 54,
   "id": "6cca6657-863f-4350-a552-7bc25cdbd086",
   "metadata": {},
   "outputs": [
    {
     "data": {
      "text/plain": [
       "tensor([ 0, 10, 20, 30, 40, 50, 60, 70, 80, 90])"
      ]
     },
     "execution_count": 54,
     "metadata": {},
     "output_type": "execute_result"
    }
   ],
   "source": [
    "x = torch.arange(0,100,10)\n",
    "x"
   ]
  },
  {
   "cell_type": "code",
   "execution_count": 60,
   "id": "e22e2bc5-e37e-47ce-8ed9-f7f5bdec8c81",
   "metadata": {},
   "outputs": [
    {
     "name": "stdout",
     "output_type": "stream",
     "text": [
      "Maximum: 90\n",
      "Minimum: 0\n",
      "Sum: 450\n",
      "Mean: 45.0\n"
     ]
    }
   ],
   "source": [
    "print(f\"Maximum: {max(x)}\")\n",
    "print(f\"Minimum: {min(x)}\")\n",
    "print(f\"Sum: {sum(x)}\")\n",
    "print(f\"Mean: {x.type(torch.float32).mean()}\")"
   ]
  },
  {
   "cell_type": "markdown",
   "id": "18281169-1f94-433b-9921-e35f2eacfb11",
   "metadata": {},
   "source": [
    "Note: You may find some methods such as torch.mean() require tensors to be in torch.float32 (the most common) or another specific datatype, otherwise the operation will fail."
   ]
  },
  {
   "cell_type": "code",
   "execution_count": 62,
   "id": "3960ebdd-4979-4294-a935-6b3ff1b9e413",
   "metadata": {},
   "outputs": [
    {
     "name": "stdout",
     "output_type": "stream",
     "text": [
      "Arnange tensor:\n",
      "tensor([ 0, 10, 20, 30, 40, 50, 60, 70, 80, 90])\n",
      "Index where max value occurs: 9\n",
      "Index where min value occurs: 0\n"
     ]
    }
   ],
   "source": [
    "tensor_x = torch.arange(0,100,10)\n",
    "print(f\"Arnange tensor:\\n{tensor}\")\n",
    "\n",
    "# Returns index of max and min\n",
    "print(f\"Index where max value occurs: {tensor_x.argmax()}\")\n",
    "print(f\"Index where min value occurs: {tensor_x.argmin()}\")"
   ]
  },
  {
   "cell_type": "markdown",
   "id": "deeed9a6-166a-42a4-8701-75a92077bb9a",
   "metadata": {},
   "source": [
    "# Change tensor typem"
   ]
  },
  {
   "cell_type": "code",
   "execution_count": 65,
   "id": "5cf9691d-695d-4a8f-9db3-b6f1a0957166",
   "metadata": {},
   "outputs": [
    {
     "data": {
      "text/plain": [
       "torch.int64"
      ]
     },
     "execution_count": 65,
     "metadata": {},
     "output_type": "execute_result"
    }
   ],
   "source": [
    "tensor = torch.arange(10,90,10)\n",
    "tensor.dtype"
   ]
  },
  {
   "cell_type": "code",
   "execution_count": 66,
   "id": "a59e937a-154a-4999-adfd-79f20681c747",
   "metadata": {},
   "outputs": [
    {
     "data": {
      "text/plain": [
       "torch.float16"
      ]
     },
     "execution_count": 66,
     "metadata": {},
     "output_type": "execute_result"
    }
   ],
   "source": [
    "tensor_float16 = tensor.type(torch.float16)\n",
    "tensor_float16.dtype"
   ]
  },
  {
   "cell_type": "code",
   "execution_count": 67,
   "id": "c82a3fd8-6852-4584-a1f6-56fa66f47272",
   "metadata": {},
   "outputs": [
    {
     "data": {
      "text/plain": [
       "torch.float32"
      ]
     },
     "execution_count": 67,
     "metadata": {},
     "output_type": "execute_result"
    }
   ],
   "source": [
    "tensor_float32 = tensor.type(torch.float32)\n",
    "tensor_float32.dtype"
   ]
  },
  {
   "cell_type": "markdown",
   "id": "a3ef89d5-1985-4815-a3af-d686f843b1c8",
   "metadata": {},
   "source": [
    "# Reshaping, stacking, squeezing, unsqueezing"
   ]
  },
  {
   "cell_type": "code",
   "execution_count": 76,
   "id": "811a4d48-4b5b-4aaa-a8b0-10824362bb4b",
   "metadata": {},
   "outputs": [
    {
     "name": "stdout",
     "output_type": "stream",
     "text": [
      "tensor([10., 20., 30., 40., 50., 60., 70.]) torch.float32 torch.Size([7])\n"
     ]
    }
   ],
   "source": [
    "x = torch.arange(10.,80.,10)\n",
    "print(x, x.dtype, x.shape)"
   ]
  },
  {
   "cell_type": "code",
   "execution_count": 75,
   "id": "e4ceab1d-9f17-4dfe-affc-070576e23ced",
   "metadata": {},
   "outputs": [
    {
     "name": "stdout",
     "output_type": "stream",
     "text": [
      "tensor([[10., 20., 30., 40., 50., 60., 70.]]) torch.Size([1, 7])\n"
     ]
    },
    {
     "data": {
      "text/plain": [
       "tensor([[10., 20., 30., 40., 50., 60., 70.]])"
      ]
     },
     "execution_count": 75,
     "metadata": {},
     "output_type": "execute_result"
    }
   ],
   "source": [
    "x_reshaped = x.reshape(1,7)\n",
    "print(x_reshaped, x_reshaped.shape)\n",
    "x_reshaped"
   ]
  },
  {
   "cell_type": "code",
   "execution_count": 78,
   "id": "08f84a19-380c-4d3f-9b8d-a432de9b4a74",
   "metadata": {},
   "outputs": [
    {
     "data": {
      "text/plain": [
       "tensor([[10., 20., 30., 40., 50., 60., 70.]])"
      ]
     },
     "execution_count": 78,
     "metadata": {},
     "output_type": "execute_result"
    }
   ],
   "source": [
    "z = x.view(1,7)\n",
    "z"
   ]
  },
  {
   "cell_type": "code",
   "execution_count": 79,
   "id": "5c98978d-7c50-43c4-bc12-a1a2853bcebf",
   "metadata": {},
   "outputs": [
    {
     "data": {
      "text/plain": [
       "(tensor([[ 5., 20., 30., 40., 50., 60., 70.]]),\n",
       " tensor([ 5., 20., 30., 40., 50., 60., 70.]))"
      ]
     },
     "execution_count": 79,
     "metadata": {},
     "output_type": "execute_result"
    }
   ],
   "source": [
    "# Changing z changes x\n",
    "z[:, 0] = 5\n",
    "z, x"
   ]
  },
  {
   "cell_type": "markdown",
   "id": "be7f30a8-9ac0-4fce-9a3d-d3a325e482b2",
   "metadata": {},
   "source": [
    "# Indexingm"
   ]
  },
  {
   "cell_type": "code",
   "execution_count": 82,
   "id": "a2ed33e4-106f-43bf-a883-f7bef3c3ec41",
   "metadata": {},
   "outputs": [
    {
     "data": {
      "text/plain": [
       "(tensor([1, 2, 3, 4, 5, 6, 7, 8, 9]),\n",
       " tensor([[[1, 2, 3],\n",
       "          [4, 5, 6],\n",
       "          [7, 8, 9]]]))"
      ]
     },
     "execution_count": 82,
     "metadata": {},
     "output_type": "execute_result"
    }
   ],
   "source": [
    "x = torch.arange(1,10)\n",
    "x, x.reshape(1,3,3)"
   ]
  },
  {
   "cell_type": "markdown",
   "id": "e92892ef-1bb3-4f5a-9a4f-c0bac99045c8",
   "metadata": {},
   "source": [
    "# Testing torch on GPU"
   ]
  },
  {
   "cell_type": "markdown",
   "id": "205aaf2d-6f5e-4c1a-80d6-c02dfc1c4be3",
   "metadata": {},
   "source": [
    "## Test script"
   ]
  },
  {
   "cell_type": "code",
   "execution_count": 92,
   "id": "aaea6d64-6577-49ce-809b-d8c28d1fa914",
   "metadata": {},
   "outputs": [
    {
     "name": "stdout",
     "output_type": "stream",
     "text": [
      "True\n",
      "True\n"
     ]
    }
   ],
   "source": [
    "import torch\n",
    "import math\n",
    "# this ensures that the current MacOS version is at least 12.3+\n",
    "print(torch.backends.mps.is_available())\n",
    "# this ensures that the current current PyTorch installation was built with MPS activated.\n",
    "print(torch.backends.mps.is_built())"
   ]
  },
  {
   "cell_type": "code",
   "execution_count": 93,
   "id": "44db8b9f-ec20-4b8b-bb91-18ccde6ec181",
   "metadata": {},
   "outputs": [
    {
     "name": "stdout",
     "output_type": "stream",
     "text": [
      "99 167.1236114501953\n",
      "199 114.48543548583984\n",
      "299 79.39013671875\n",
      "399 55.97895812988281\n",
      "499 40.35350799560547\n",
      "599 29.91857147216797\n",
      "699 22.946025848388672\n",
      "799 18.284086227416992\n",
      "899 15.165090560913086\n",
      "999 13.076950073242188\n",
      "1099 11.677961349487305\n",
      "1199 10.740017890930176\n",
      "1299 10.110695838928223\n",
      "1399 9.688103675842285\n",
      "1499 9.40411376953125\n",
      "1599 9.213098526000977\n",
      "1699 9.084510803222656\n",
      "1799 8.997859001159668\n",
      "1899 8.939417839050293\n",
      "1999 8.899964332580566\n",
      "Result: y = -0.005785301793366671 + 0.8496687412261963 x + 0.0009980625472962856 x^2 + -0.09232445806264877 x^3\n"
     ]
    }
   ],
   "source": [
    "dtype = torch.float\n",
    "device = torch.device(\"mps\")\n",
    "\n",
    "# Create random input and output data\n",
    "x = torch.linspace(-math.pi, math.pi, 2000, device=device, dtype=dtype)\n",
    "y = torch.sin(x)\n",
    "\n",
    "# Randomly initialize weights\n",
    "a = torch.randn((), device=device, dtype=dtype)\n",
    "b = torch.randn((), device=device, dtype=dtype)\n",
    "c = torch.randn((), device=device, dtype=dtype)\n",
    "d = torch.randn((), device=device, dtype=dtype)\n",
    "\n",
    "learning_rate = 1e-6\n",
    "for t in range(2000):\n",
    "    # Forward pass: compute predicted y\n",
    "    y_pred = a + b * x + c * x ** 2 + d * x ** 3\n",
    "\n",
    "    # Compute and print loss\n",
    "    loss = (y_pred - y).pow(2).sum().item()\n",
    "    if t % 100 == 99:\n",
    "        print(t, loss)\n",
    "\n",
    "# Backprop to compute gradients of a, b, c, d with respect to loss\n",
    "    grad_y_pred = 2.0 * (y_pred - y)\n",
    "    grad_a = grad_y_pred.sum()\n",
    "    grad_b = (grad_y_pred * x).sum()\n",
    "    grad_c = (grad_y_pred * x ** 2).sum()\n",
    "    grad_d = (grad_y_pred * x ** 3).sum()\n",
    "\n",
    "    # Update weights using gradient descent\n",
    "    a -= learning_rate * grad_a\n",
    "    b -= learning_rate * grad_b\n",
    "    c -= learning_rate * grad_c\n",
    "    d -= learning_rate * grad_d\n",
    "\n",
    "\n",
    "print(f'Result: y = {a.item()} + {b.item()} x + {c.item()} x^2 + {d.item()} x^3')\n"
   ]
  },
  {
   "cell_type": "code",
   "execution_count": 94,
   "id": "c20fe16c-af3a-41d2-a1eb-083163105eb7",
   "metadata": {},
   "outputs": [
    {
     "data": {
      "text/plain": [
       "device(type='mps')"
      ]
     },
     "execution_count": 94,
     "metadata": {},
     "output_type": "execute_result"
    }
   ],
   "source": [
    "device"
   ]
  },
  {
   "cell_type": "code",
   "execution_count": null,
   "id": "8b3c2a43-3d6e-4d31-b04d-7740197b24dc",
   "metadata": {},
   "outputs": [],
   "source": [
    "\n"
   ]
  }
 ],
 "metadata": {
  "kernelspec": {
   "display_name": "Python 3 (ipykernel)",
   "language": "python",
   "name": "python3"
  },
  "language_info": {
   "codemirror_mode": {
    "name": "ipython",
    "version": 3
   },
   "file_extension": ".py",
   "mimetype": "text/x-python",
   "name": "python",
   "nbconvert_exporter": "python",
   "pygments_lexer": "ipython3",
   "version": "3.10.8"
  }
 },
 "nbformat": 4,
 "nbformat_minor": 5
}
