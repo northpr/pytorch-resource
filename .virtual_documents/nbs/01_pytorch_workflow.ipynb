import torch
from torch import nn
import matplotlib.pyplot as plt


# Create *known* parameters
weight = 0.7
bias = 0.3

# Create data
start = 0
end = 1
step = 0.02
x = torch.arange(start, end, step).unsqueeze(dim=1)
y = weight * x + bias

x, y


train_split = int(0.8*len(x)) # 80% of training set and 20% of training set
x_train, y_train = x[:train_split], y[:train_split]
x_test, y_test = x[train_split:], y[train_split:]

len(x_train), len(x_test)



def plot_predictions(train_data=x_train,
                    train_labels=y_train,
                    test_data=x_test,
                    test_labels=y_test,
                    predictions=None):
    
    
    plt.figure(figsize=(10,7));
    # Plot training data in blue
    plt.scatter(train_data, train_labels, c="b", s=4, label="training data")
    # Plot test data in green
    plt.scatter(test_data, test_labels, c="g", s=4, label="testing data")
    
    if predictions is not None:
        plt.scatter(test_data, predictions, c="r", s=4, label="Predictions")
    
    plt.legend(prop={"size":14});


plot_predictions()


torch.randn(1,dtype=torch.float,requires_grad=True)


# Create a Linear Regression Model class
class LinearRegressionModel(nn.Module):
    def __init__(self):
        super().__init__()
        self.weights = nn.Parameter(torch.randn(1,
                                               dtype=torch.float),
                                   requires_grad=True)
        self.bias = nn.Parameter(torch.randn(1,
                                           dtype=torch.float),
                                 requires_grad=True)
        
    def forward(self, x: torch.Tensor) -> torch.Tensor:
        return self.weights * x + self.bias


model_0 = LinearRegressionModel()
list(model_0.parameters())


# List named parameters
model_0.state_dict()


with torch.inference_mode():
    y_preds = model_0(x_test)


# Check th predictions
print(f"Number of testing samples: {len(x_test)}")
print(f"Number of predictions made: {len(y_preds)}")
print(f"Predicted values:\n{y_preds}")


plot_predictions(predictions=y_preds)


# Create the loss function
loss_fn = nn.L1Loss() # MAE loss i the same as L1Loss

# Create the optimizer
optimizer = torch.optim.SGD(params=model_0.parameters(), # parameters of target model to optimize
                           lr=0.01) # learning rate (how much the optimizer should change parameter)


torch.manual_seed(42)

# Number of epochs = how many times the model will pass over the training data
epochs=300

# Create empty loss lists to track values
train_loss_values = []
test_loss_values = []
epoch_count = []

for epoch in range(epochs):
    ### TRAINING ###
    # Put model in traing mode ( this is the default state of a model
    model_0.train()
    
    # 1. Forward pass on train data using the forward() method inside
    y_pred = model_0(x_train)
    # print(y_pred)
    
    # 2. Calculate the loss (how different are our models predictions to the ground truth)
    loss = loss_fn(y_pred, y_train)
    
    # 3. Zero grad of the optimizer
    optimizer.zero_grad()
    
    # 4. Loss backwards
    loss.backward()
    
    # 5. Progress the optimizer
    optimizer.step()
    
    ### TESTING ###
    
    # Put thee model in evaluation mode
    model_0.eval()
    
    with torch.inference_mode():
        # 1. Forward pass on test data
        test_pred = model_0(x_test)
        
        # 2. Calculate loss on test data
        test_loss = loss_fn(test_pred, y_test)
        
        # Print out what's happening
        if epoch % 10 == 0:
            epoch_count.append(epoch)
            train_loss_values.append(loss.detach().numpy())
            test_loss_values.append(test_loss.detach().numpy())
            print(f"Epoch: {epoch} | MAE Train Loss: {loss} | MAE Test Loss: {test_loss}")


# Plot the loss curves
plt.plot(epoch_count, train_loss_values, label="train loss")
plt.plot(epoch_count, test_loss_values, label="test loss")
plt.title("training and test loss curves")
plt.ylabel("loss")
plt.xlabel("epochs")
plt.legend();


# Find our model's learned parameters
print("The model learned the following values for weights and bias:")
print(model_0.state_dict())
print("\nAnd the original values for weights and bias are:")
print(f"weights: {weight}, bias: {bias}")


# 1. Set the model in evaluation mode
model_0.eval()

# 2. Setup the inference mode context manager
with torch.inference_mode():
    
# 3. Make sure the calculations are done with the model and data on the same device
# in our case, we haven't setup device-agnostic code yet so our data nd model are
# on the CPU by default.
# model_0.to(device)
# x_test = x_test.to(device)
    y_preds = model_0(x_test)
y_preds


plot_predictions(predictions=y_preds)


from pathlib import Path

# 1. Create model directory
MODEL_PATH = Path("models")
MODEL_PATH.mkdir(parents=True, exist_ok=True)

# 2. Create model save path
MODEL_NAME = "01_pytorch_workflow_model_0.pth"
MODEL_SAVE_PATH = MODEL_PATH/MODEL_NAME

# 3. Save the model state dict
print(f"Saving model to: {MODEL_SAVE_PATH}")
torch.save(obj=model_0.state_dict(),
          f=MODEL_SAVE_PATH)


get_ipython().getoutput("ls -l models/models/01_pytorch_workflow_model_0.pth")


loaded_model_0 = LinearRegressionModel()

# Load the state_dict of our saved model (this will update the new instance of our model with trained weights and)
loaded_model_0.load_state_dict(torch.load(f=MODEL_SAVE_PATH))


# 1. Put the loaded model into evaluation mode
loaded_model_0.eval()

# 2. Ue the inference mode context manager to make predictions
with torch.inference_mode():
    # Perform a forward pass on the test data with the loaded model
    loaded_model_preds = loaded_model_0(x_test)
    


# Compare previous model predictions with loaded model predictions (these should be the same)
y_preds == loaded_model_preds


import torch
from torch import nn
import matplotlib.pyplot as plt

# Check pytorch version
torch.__version__


# Setup device

dtype = torch.float
device = "mps" if torch.backends.mps.is_available() else "cpu"
print(f"Using device: {device}")


# Create weight and bias
weight = 0.7
bias = 0.3

# Create range values
start = 0
end = 1
step = 0.02

# Create X and Y (features and labels)
x = torch.arange(start, end, step).unsqueeze(dim=1) # without unsqueeze, errors will happen later on
y = weight * x + bias
x[:10], y[:10]


class LinearRegressionModelV2(nn.Module):
    def __init__(self):
        super().__init__()
        # Use nn.Linear() for creating the model parameters
        self.linear_layer = nn.Linear(in_features=1,
                                     out_features=1)
        
    # Define the forward computation (input data x flows through nn.Linear())
    def forward(self, x:torch.Tensor) -> torch.Tensor:
        return self.linear_layer(x)
    
# Set the manual seed when creating the model
torch.manual_seed(42)
model_1 = LinearRegressionModelV2()
model_1, model_1.state_dict()


next(model_1.parameters()).device


# Set the model to GPU if it's availabele
model_1.to(device)
next(model_1.parameters()).device


# Create loss function
loss_fn = nn.L1Loss()

# Create optimizer
optimizer = torch.optim.SGD(params=model_1.parameters(), lr=0.01)


model_1.parameters


torch.manual_seed(42)

# Set the number of epochs
epochs = 1000

# Put data on the available device
# Without this, error will happen (not all model/data on device)
x_train = x_train.to(device)
x_test = x_test.to(device)
y_train = y_train.to(device)
y_test = y_test.to(device)

for epoch in range(epochs):
    ### Training ###
    model_1.train() # train mode is on by default after construction
    
    # 1. Forward pass
    y_pred = model_1(x_train)
    
    # 2. Calculate loss
    loss = loss_fn(y_pred, y_train)
    
    # 3. Zero grad optimizer
    optimizer.zero_grad()
    
    # 4. Loss backward
    loss.backward()
    
    # 5. Step the optimizer
    optimizer.step()
    
    ### Testing ###
    model_1.eval()
    
    # 1. Forward pass
    with torch.inference_mode():
        test_pred = model_1(x_test)
        
        # Calculate the loss
        test_loss = loss_fn(test_pred, y_test)
        
    if epoch % 100 == 0:
        print(f"Epoch: {epoch} Train loss: {loss} | Test loss: {test_loss}")


# Find our model's learned parameters
from pprint import pprint
print("The model learned the following values for weight and bias:")
print(model_1.state_dict())
print("\nAnd the original values for weights and bias are:")
print(f"Weights: {weight}, bias: {bias}")


# Turn model into evaluation mode
model_1.eval()

# Make predictions on the test data
with torch.inference_mode():
    y_preds = model_1(x_test)
    
y_preds


## This will not work
# plot_predictions(predictions=y_preds)
    
# Puut data on the CPU and plot it
plot_predictions(predictions=y_preds.cpu())


from pathlib import Path

# 1. Create models directory
MODEL_PATH = Path("models")
MODEL_PATH.mkdir(parents=True, exist_ok=True)

# 2. Create model save path
MODEL_NAME = "01_pytorch_workflow_model_1.pth"
MODEL_SAVE_PATH = MODEL_PATH/MODEL_NAME

# 3. Save the model state dict
print(f"Saving model to: {MODEL_SAVE_PATH}")
torch.save(obj=model_1.state_dict(),
          f=MODEL_SAVE_PATH)



