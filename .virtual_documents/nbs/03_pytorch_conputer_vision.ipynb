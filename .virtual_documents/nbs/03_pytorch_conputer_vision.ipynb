# Import PyTorch
import torch
from torch import nn

# Import torchvision 
import torchvision
from torchvision import datasets
from torchvision.transforms import ToTensor

# Import matplotlib for visualization
import matplotlib.pyplot as plt



print(f"PyTorch version: {torch.__version__}\ntorchvision version: {torchvision.__version__}")


train_data = datasets.FashionMNIST(
    root="data",
    train=True,
    download=True,
    transform=ToTensor(),# Image come as PIL format, turn into Torch tensors
    target_transform=None)

test_data = datasets.FashionMNIST(
    root="data",
    train=False,
    download=True,
    transform=ToTensor())


image, label = train_data[0]
image, label


image.shape


print(f"Number of train samples: {len(train_data.data)}")
print(f"Number of test samples: {len(test_data.data)}")
print(f"All Classes: {train_data.classes}")


import matplotlib.pyplot as plt

plt.imshow(image.squeeze())


## plot more image
torch.manual_seed(42)
fig =plt.figure(figsize=(9,9))
rows, cols= 4,4

for i in range(1, rows+cols+1):
    random_idx = torch.randint(0, len(train_data), size=[1]).item()
    img, label = train_data[random_idx]
    fig.add_subplot(rows,cols,i)
    plt.imshow(img.squeeze(), cmap="gray")
    plt.title(train_data.classes[label])
    plt.axis(False)


from torch.utils.data import DataLoader

# Setup the batch size hyperparameters
BATCH_SIZE = 32

# Turn datasets into iterables (batches)
train_dataloader = DataLoader(train_data,
                              batch_size=BATCH_SIZE,
                              shuffle=True)

test_dataloader = DataLoader(test_data,
                             batch_size=BATCH_SIZE,
                             shuffle=False)


# Let's check what we've created
print(f"DataLoader: {train_dataloader}, {test_dataloader}")
print(f"Length of train dataloader: {len(train_dataloader)}")
print(f"Length of test dataloader: {len(test_dataloader)}")


# Create a flatten layer
flatten_model = nn.Flatten()

# Get a single sample
x = train_features_batch[0]

# Flatten the sample
output = flatten_model(x)

# Print out what happened
print(f"Shape before flattening: {x.shape}")



